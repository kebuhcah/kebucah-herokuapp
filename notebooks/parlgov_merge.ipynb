{
 "cells": [
  {
   "cell_type": "code",
   "execution_count": 40,
   "metadata": {
    "collapsed": false
   },
   "outputs": [],
   "source": [
    "import pandas as pd\n",
    "from pandas import DataFrame\n",
    "import dateutil.parser\n",
    "import json\n",
    "\n",
    "\n",
    "view_party=pd.read_csv('../refdata/view_party.csv').drop(['cmp','euprofiler','ees','castles_mair','huber_inglehart','ray','benoit_laver','chess'],axis=1)\n",
    "partyColumns=view_party.columns\n",
    "\n",
    "view_election=pd.read_csv('../refdata/view_election.csv')\n",
    "electionColumns=view_election.columns\n",
    "\n",
    "view_election=view_election.merge(view_party,on='party_id',how='left',suffixes=('','_2'))\n",
    "view_cabinet=pd.read_csv('../refdata/view_cabinet.csv')\n",
    "\n",
    "view_election=view_election.drop([x for x in view_election.columns if x.endswith('_2')],axis=1)\n",
    "view_election.election_date=view_election.election_date.apply(dateutil.parser.parse)\n",
    "\n",
    "NationalElections=view_election[view_election.election_type=='parliament']\n",
    "EuroElections=view_election[view_election.election_type=='ep']\n",
    "\n",
    "\n",
    "def getLastElection(t):\n",
    "    return t[t.election_date==t.election_date.max()]\n",
    "\n",
    "NationalElections=NationalElections.groupby('country_name_short').apply(getLastElection).reset_index(drop=True)\n",
    "EuroElections=EuroElections.groupby('country_name_short').apply(getLastElection).reset_index(drop=True)\n",
    "\n",
    "NationalElections.to_csv('../refdata/national_elections.csv',index=False)\n",
    "EuroElections.to_csv('../refdata/euro_elections.csv',index=False)\n",
    "\n",
    "\n",
    "def getPartyJson(code):\n",
    "    topLevelFields=['country_id','country_name_short','country_name','election_id','election_date','seats_total']\n",
    "    \n",
    "    nat = NationalElections[code==NationalElections.country_name_short] \\\n",
    "        .sort_values(['seats','vote_share','party_name_short'],ascending=False)\n",
    "    r=nat[topLevelFields].reset_index(drop=True).ix[0].to_dict()\n",
    "    r['election_date']=str(r['election_date'])\n",
    "    r.update({'parties' : [x[1][nat.columns.difference(topLevelFields)].dropna().to_dict() for x in nat.iterrows()]})\n",
    "\n",
    "    return r\n",
    "\n",
    "\n",
    "data={code:getPartyJson(code) for code in NationalElections['country_name_short'].drop_duplicates() if not code in ['AUS','CAN','ISR','NZL']}\n",
    "\n",
    "with open('../public/parlgov.json', 'w') as outfile:\n",
    "    json.dump(data, outfile,indent=4, default='')"
   ]
  }
 ],
 "metadata": {
  "kernelspec": {
   "display_name": "Python 2",
   "language": "python",
   "name": "python2"
  },
  "language_info": {
   "codemirror_mode": {
    "name": "ipython",
    "version": 2
   },
   "file_extension": ".py",
   "mimetype": "text/x-python",
   "name": "python",
   "nbconvert_exporter": "python",
   "pygments_lexer": "ipython2",
   "version": "2.7.11"
  }
 },
 "nbformat": 4,
 "nbformat_minor": 0
}

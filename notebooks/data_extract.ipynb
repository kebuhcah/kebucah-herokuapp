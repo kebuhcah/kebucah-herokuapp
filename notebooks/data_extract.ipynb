{
 "cells": [
  {
   "cell_type": "code",
   "execution_count": 60,
   "metadata": {
    "collapsed": false
   },
   "outputs": [],
   "source": [
    "import pandas as pd\n",
    "from pandas import DataFrame\n",
    "import dateutil.parser\n",
    "import json\n",
    "\n",
    "CPI_2015_data=pd.read_excel('../build/CPI_2015_data.xlsx')\n",
    "CPI_2015_data=CPI_2015_data[CPI_2015_data.Region.isin(['ECA','WE/EU'])]\n",
    "\n",
    "WDI_data=pd.read_csv('../tmp/WDI_csv/WDI_data.csv')\n",
    "WDI_data=WDI_data[['Country Code','Indicator Code','2015']][WDI_data['Country Code'].isin(CPI_2015_data.wbcode)] \\\n",
    "    .set_index(['Country Code','Indicator Code']).unstack()['2015'][['SP.POP.TOTL','NY.GDP.MKTP.CD', 'NY.GDP.PCAP.CD']] \\\n",
    "    .reset_index().rename(columns={\n",
    "            'Country Code':'countryCode',\n",
    "            'SP.POP.TOTL':'totalPopulation',\n",
    "            'NY.GDP.MKTP.CD':'gdpUsd',\n",
    "            'NY.GDP.PCAP.CD':'gdpPerCapitaUsd',\n",
    "        }).rename_axis(None,axis=1)"
   ]
  },
  {
   "cell_type": "code",
   "execution_count": 61,
   "metadata": {
    "collapsed": false
   },
   "outputs": [
    {
     "data": {
      "text/plain": [
       "Region\n",
       "ECA      19\n",
       "WE/EU    31\n",
       "Name: Rank, dtype: int64"
      ]
     },
     "execution_count": 61,
     "metadata": {},
     "output_type": "execute_result"
    }
   ],
   "source": [
    "CPI_2015_data.groupby('Region').count()['Rank']"
   ]
  },
  {
   "cell_type": "code",
   "execution_count": 23,
   "metadata": {
    "collapsed": false
   },
   "outputs": [],
   "source": [
    "WDI_data['Indicator Prefix 1']=WDI_data['Indicator Code'].str.split('.',expand=True)[0]\n",
    "WDI_data['Indicator Prefix 2']=WDI_data['Indicator Code'].str.split('.').apply(lambda x: '.'.join(x[:2]))"
   ]
  },
  {
   "cell_type": "code",
   "execution_count": 5,
   "metadata": {
    "collapsed": false
   },
   "outputs": [],
   "source": [
    "Cabinets=pd.read_csv('../refdata/cabinets.csv')\n",
    "euroCountries=Cabinets.country_name_short"
   ]
  },
  {
   "cell_type": "code",
   "execution_count": 35,
   "metadata": {
    "collapsed": false
   },
   "outputs": [
    {
     "data": {
      "text/html": [
       "<div>\n",
       "<table border=\"1\" class=\"dataframe\">\n",
       "  <thead>\n",
       "    <tr style=\"text-align: right;\">\n",
       "      <th></th>\n",
       "      <th>Indicator Code</th>\n",
       "      <th>Indicator Name</th>\n",
       "    </tr>\n",
       "  </thead>\n",
       "  <tbody>\n",
       "    <tr>\n",
       "      <th>461</th>\n",
       "      <td>NY.GDP.MKTP.KN</td>\n",
       "      <td>GDP (constant LCU)</td>\n",
       "    </tr>\n",
       "    <tr>\n",
       "      <th>462</th>\n",
       "      <td>NY.GDP.MKTP.CN</td>\n",
       "      <td>GDP (current LCU)</td>\n",
       "    </tr>\n",
       "    <tr>\n",
       "      <th>463</th>\n",
       "      <td>NY.GDP.MKTP.CD</td>\n",
       "      <td>GDP (current US$)</td>\n",
       "    </tr>\n",
       "    <tr>\n",
       "      <th>464</th>\n",
       "      <td>NY.GDP.MKTP.KD</td>\n",
       "      <td>GDP at market prices (constant 2010 US$)</td>\n",
       "    </tr>\n",
       "    <tr>\n",
       "      <th>465</th>\n",
       "      <td>NY.GDP.DEFL.ZS</td>\n",
       "      <td>GDP deflator (base year varies by country)</td>\n",
       "    </tr>\n",
       "    <tr>\n",
       "      <th>466</th>\n",
       "      <td>NY.GDP.MKTP.KD.ZG</td>\n",
       "      <td>GDP growth (annual %)</td>\n",
       "    </tr>\n",
       "    <tr>\n",
       "      <th>467</th>\n",
       "      <td>NY.GDP.PCAP.KD</td>\n",
       "      <td>GDP per capita (constant 2010 US$)</td>\n",
       "    </tr>\n",
       "    <tr>\n",
       "      <th>468</th>\n",
       "      <td>NY.GDP.PCAP.KN</td>\n",
       "      <td>GDP per capita (constant LCU)</td>\n",
       "    </tr>\n",
       "    <tr>\n",
       "      <th>469</th>\n",
       "      <td>NY.GDP.PCAP.CN</td>\n",
       "      <td>GDP per capita (current LCU)</td>\n",
       "    </tr>\n",
       "    <tr>\n",
       "      <th>470</th>\n",
       "      <td>NY.GDP.PCAP.CD</td>\n",
       "      <td>GDP per capita (current US$)</td>\n",
       "    </tr>\n",
       "    <tr>\n",
       "      <th>471</th>\n",
       "      <td>NY.GDP.PCAP.KD.ZG</td>\n",
       "      <td>GDP per capita growth (annual %)</td>\n",
       "    </tr>\n",
       "    <tr>\n",
       "      <th>472</th>\n",
       "      <td>NY.GDP.PCAP.PP.KD</td>\n",
       "      <td>GDP per capita, PPP (constant 2011 internation...</td>\n",
       "    </tr>\n",
       "    <tr>\n",
       "      <th>473</th>\n",
       "      <td>NY.GDP.PCAP.PP.CD</td>\n",
       "      <td>GDP per capita, PPP (current international $)</td>\n",
       "    </tr>\n",
       "    <tr>\n",
       "      <th>474</th>\n",
       "      <td>SL.GDP.PCAP.EM.KD</td>\n",
       "      <td>GDP per person employed (constant 2011 PPP $)</td>\n",
       "    </tr>\n",
       "    <tr>\n",
       "      <th>475</th>\n",
       "      <td>EG.GDP.PUSE.KO.PP.KD</td>\n",
       "      <td>GDP per unit of energy use (constant 2011 PPP ...</td>\n",
       "    </tr>\n",
       "    <tr>\n",
       "      <th>476</th>\n",
       "      <td>EG.GDP.PUSE.KO.PP</td>\n",
       "      <td>GDP per unit of energy use (PPP $ per kg of oi...</td>\n",
       "    </tr>\n",
       "    <tr>\n",
       "      <th>477</th>\n",
       "      <td>NY.GDP.MKTP.PP.KD</td>\n",
       "      <td>GDP, PPP (constant 2011 international $)</td>\n",
       "    </tr>\n",
       "    <tr>\n",
       "      <th>478</th>\n",
       "      <td>NY.GDP.MKTP.PP.CD</td>\n",
       "      <td>GDP, PPP (current international $)</td>\n",
       "    </tr>\n",
       "  </tbody>\n",
       "</table>\n",
       "</div>"
      ],
      "text/plain": [
       "           Indicator Code                                     Indicator Name\n",
       "461        NY.GDP.MKTP.KN                                 GDP (constant LCU)\n",
       "462        NY.GDP.MKTP.CN                                  GDP (current LCU)\n",
       "463        NY.GDP.MKTP.CD                                  GDP (current US$)\n",
       "464        NY.GDP.MKTP.KD           GDP at market prices (constant 2010 US$)\n",
       "465        NY.GDP.DEFL.ZS         GDP deflator (base year varies by country)\n",
       "466     NY.GDP.MKTP.KD.ZG                              GDP growth (annual %)\n",
       "467        NY.GDP.PCAP.KD                 GDP per capita (constant 2010 US$)\n",
       "468        NY.GDP.PCAP.KN                      GDP per capita (constant LCU)\n",
       "469        NY.GDP.PCAP.CN                       GDP per capita (current LCU)\n",
       "470        NY.GDP.PCAP.CD                       GDP per capita (current US$)\n",
       "471     NY.GDP.PCAP.KD.ZG                   GDP per capita growth (annual %)\n",
       "472     NY.GDP.PCAP.PP.KD  GDP per capita, PPP (constant 2011 internation...\n",
       "473     NY.GDP.PCAP.PP.CD      GDP per capita, PPP (current international $)\n",
       "474     SL.GDP.PCAP.EM.KD      GDP per person employed (constant 2011 PPP $)\n",
       "475  EG.GDP.PUSE.KO.PP.KD  GDP per unit of energy use (constant 2011 PPP ...\n",
       "476     EG.GDP.PUSE.KO.PP  GDP per unit of energy use (PPP $ per kg of oi...\n",
       "477     NY.GDP.MKTP.PP.KD           GDP, PPP (constant 2011 international $)\n",
       "478     NY.GDP.MKTP.PP.CD                 GDP, PPP (current international $)"
      ]
     },
     "execution_count": 35,
     "metadata": {},
     "output_type": "execute_result"
    }
   ],
   "source": [
    "\n",
    "WDI_data[WDI_data['Indicator Prefix 1']=='SP'][['Indicator Code','Indicator Name']].drop_duplicates()\n",
    "WDI_data.drop_duplicates('Indicator Prefix 1')[['Indicator Code','Indicator Name']]\n",
    "WDI_data[WDI_data['Indicator Name'].str.startswith('GDP')][['Indicator Code','Indicator Name']].drop_duplicates()"
   ]
  },
  {
   "cell_type": "code",
   "execution_count": 58,
   "metadata": {
    "collapsed": false,
    "scrolled": false
   },
   "outputs": [],
   "source": []
  }
 ],
 "metadata": {
  "kernelspec": {
   "display_name": "Python 2",
   "language": "python",
   "name": "python2"
  },
  "language_info": {
   "codemirror_mode": {
    "name": "ipython",
    "version": 2
   },
   "file_extension": ".py",
   "mimetype": "text/x-python",
   "name": "python",
   "nbconvert_exporter": "python",
   "pygments_lexer": "ipython2",
   "version": "2.7.11"
  }
 },
 "nbformat": 4,
 "nbformat_minor": 0
}

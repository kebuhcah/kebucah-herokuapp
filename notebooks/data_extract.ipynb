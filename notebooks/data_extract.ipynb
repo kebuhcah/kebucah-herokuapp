{
 "cells": [
  {
   "cell_type": "code",
   "execution_count": 4,
   "metadata": {
    "collapsed": false
   },
   "outputs": [],
   "source": [
    "import pandas as pd\n",
    "from pandas import DataFrame\n",
    "import dateutil.parser\n",
    "import json\n",
    "\n",
    "CPI_2015_data=pd.read_excel('../build/CPI_2015_data.xlsx')\n",
    "CPI_2015_data=CPI_2015_data[CPI_2015_data.Region.isin(['ECA','WE/EU'])]\n",
    "\n",
    "WDI_data=pd.read_csv('../build/WDI_data.csv')\n",
    "WDI_data=WDI_data[['Country Code','Indicator Code','2015']][WDI_data['Country Code'].isin(CPI_2015_data.wbcode)] \\\n",
    "    .set_index(['Country Code','Indicator Code']).unstack()['2015'][['SP.POP.TOTL','NY.GDP.MKTP.CD', 'NY.GDP.PCAP.CD','EN.POP.DNST']] \\\n",
    "    .reset_index().rename(columns={\n",
    "            'Country Code':'countryCode',\n",
    "            'SP.POP.TOTL':'totalPopulation',\n",
    "            'NY.GDP.MKTP.CD':'gdpUsd',\n",
    "            'NY.GDP.PCAP.CD':'gdpPerCapitaUsd',\n",
    "            'EN.POP.DNST' : 'populationDensity'\n",
    "        }).rename_axis(None,axis=1)"
   ]
  },
  {
   "cell_type": "code",
   "execution_count": 7,
   "metadata": {
    "collapsed": true
   },
   "outputs": [],
   "source": [
    "WDI_data=pd.read_csv('../build/WDI_data.csv')\n"
   ]
  },
  {
   "cell_type": "code",
   "execution_count": 61,
   "metadata": {
    "collapsed": false
   },
   "outputs": [
    {
     "data": {
      "text/plain": [
       "Region\n",
       "ECA      19\n",
       "WE/EU    31\n",
       "Name: Rank, dtype: int64"
      ]
     },
     "execution_count": 61,
     "metadata": {},
     "output_type": "execute_result"
    }
   ],
   "source": [
    "CPI_2015_data.groupby('Region').count()['Rank']"
   ]
  },
  {
   "cell_type": "code",
   "execution_count": 8,
   "metadata": {
    "collapsed": false
   },
   "outputs": [],
   "source": [
    "WDI_data['Indicator Prefix 1']=WDI_data['Indicator Code'].str.split('.',expand=True)[0]\n",
    "WDI_data['Indicator Prefix 2']=WDI_data['Indicator Code'].str.split('.').apply(lambda x: '.'.join(x[:2]))"
   ]
  },
  {
   "cell_type": "code",
   "execution_count": 5,
   "metadata": {
    "collapsed": false
   },
   "outputs": [],
   "source": [
    "Cabinets=pd.read_csv('../refdata/cabinets.csv')\n",
    "euroCountries=Cabinets.country_name_short"
   ]
  },
  {
   "cell_type": "code",
   "execution_count": 9,
   "metadata": {
    "collapsed": false
   },
   "outputs": [
    {
     "data": {
      "text/html": [
       "<div>\n",
       "<table border=\"1\" class=\"dataframe\">\n",
       "  <thead>\n",
       "    <tr style=\"text-align: right;\">\n",
       "      <th></th>\n",
       "      <th>Indicator Code</th>\n",
       "      <th>Indicator Name</th>\n",
       "    </tr>\n",
       "  </thead>\n",
       "  <tbody>\n",
       "    <tr>\n",
       "      <th>217</th>\n",
       "      <td>EN.ATM.CO2E.EG.ZS</td>\n",
       "      <td>CO2 intensity (kg per kg of oil equivalent ene...</td>\n",
       "    </tr>\n",
       "    <tr>\n",
       "      <th>374</th>\n",
       "      <td>EG.EGY.PRIM.PP.KD</td>\n",
       "      <td>Energy intensity level of primary energy (MJ/$...</td>\n",
       "    </tr>\n",
       "    <tr>\n",
       "      <th>914</th>\n",
       "      <td>IC.BUS.NDNS.ZS</td>\n",
       "      <td>New business density (new registrations per 1,...</td>\n",
       "    </tr>\n",
       "    <tr>\n",
       "      <th>1004</th>\n",
       "      <td>EN.POP.DNST</td>\n",
       "      <td>Population density (people per sq. km of land ...</td>\n",
       "    </tr>\n",
       "  </tbody>\n",
       "</table>\n",
       "</div>"
      ],
      "text/plain": [
       "         Indicator Code                                     Indicator Name\n",
       "217   EN.ATM.CO2E.EG.ZS  CO2 intensity (kg per kg of oil equivalent ene...\n",
       "374   EG.EGY.PRIM.PP.KD  Energy intensity level of primary energy (MJ/$...\n",
       "914      IC.BUS.NDNS.ZS  New business density (new registrations per 1,...\n",
       "1004        EN.POP.DNST  Population density (people per sq. km of land ..."
      ]
     },
     "execution_count": 9,
     "metadata": {},
     "output_type": "execute_result"
    }
   ],
   "source": [
    "\n",
    "WDI_data[WDI_data['Indicator Prefix 1']=='SP'][['Indicator Code','Indicator Name']].drop_duplicates()\n",
    "WDI_data.drop_duplicates('Indicator Prefix 1')[['Indicator Code','Indicator Name']]\n",
    "WDI_data[WDI_data['Indicator Name'].str.contains('ensity')][['Indicator Code','Indicator Name']].drop_duplicates()"
   ]
  },
  {
   "cell_type": "code",
   "execution_count": 58,
   "metadata": {
    "collapsed": false,
    "scrolled": false
   },
   "outputs": [],
   "source": []
  }
 ],
 "metadata": {
  "kernelspec": {
   "display_name": "Python 2",
   "language": "python",
   "name": "python2"
  },
  "language_info": {
   "codemirror_mode": {
    "name": "ipython",
    "version": 2
   },
   "file_extension": ".py",
   "mimetype": "text/x-python",
   "name": "python",
   "nbconvert_exporter": "python",
   "pygments_lexer": "ipython2",
   "version": "2.7.11"
  }
 },
 "nbformat": 4,
 "nbformat_minor": 0
}
